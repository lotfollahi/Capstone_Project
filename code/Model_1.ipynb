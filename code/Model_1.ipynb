{
 "cells": [
  {
   "cell_type": "code",
   "execution_count": 3,
   "metadata": {},
   "outputs": [],
   "source": [
    "%matplotlib inline\n",
    "import matplotlib.pyplot as plt\n",
    "import utils\n",
    "import pandas as pd\n",
    "import numpy as np\n",
    "from keras.preprocessing.image import ImageDataGenerator, array_to_img, img_to_array, load_img\n",
    "import os\n",
    "from PIL import Image\n",
    "Image.MAX_IMAGE_PIXELS = 1000000000"
   ]
  },
  {
   "cell_type": "code",
   "execution_count": 24,
   "metadata": {},
   "outputs": [],
   "source": [
    "import keras\n",
    "from keras.models import Sequential, Model, Input\n",
    "from keras.layers import Dense, Dropout, Activation\n",
    "from keras.layers import Conv2D, MaxPooling2D, Flatten\n",
    "from keras.regularizers import l2\n",
    "from keras.callbacks import ModelCheckpoint, TensorBoard\n",
    "import h5py\n",
    "from keras.models import load_model"
   ]
  },
  {
   "cell_type": "code",
   "execution_count": 5,
   "metadata": {},
   "outputs": [],
   "source": [
    "train_data_path = '/home/ec2-user/Capstone_Project/code/left-pca16' # Full path should be given here \n",
    "train_mask_path = 'mask/train/'\n",
    "test_data_path = '/home/ec2-user/Capstone_Project/code/right-pca16' # Full path should be given here \n",
    "test_mask_path = 'mask/test/'"
   ]
  },
  {
   "cell_type": "markdown",
   "metadata": {},
   "source": [
    "## Visualize Masks"
   ]
  },
  {
   "cell_type": "code",
   "execution_count": null,
   "metadata": {
    "collapsed": true
   },
   "outputs": [],
   "source": [
    "files = []\n",
    "folder = 'mask/train/'\n",
    "path = []\n",
    "for filename in os.listdir('mask/train/'):\n",
    "    files.append(filename)\n",
    "    path.append('{}{}'.format(folder,filename))"
   ]
  },
  {
   "cell_type": "code",
   "execution_count": null,
   "metadata": {
    "collapsed": true
   },
   "outputs": [],
   "source": [
    "fig, axs = plt.subplots(2, 3, figsize=(12, 8))\n",
    "axs = axs.ravel()\n",
    "for i in range(len(path)):\n",
    "    img = load_img(path=path[i],grayscale=True, target_size=(150,150), interpolation='nearest')\n",
    "    axs[i].imshow(img)\n",
    "    axs[i].set_title(files[i])"
   ]
  },
  {
   "cell_type": "code",
   "execution_count": null,
   "metadata": {
    "collapsed": true
   },
   "outputs": [],
   "source": [
    "files = []\n",
    "folder = 'mask/test/'\n",
    "path = []\n",
    "for filename in os.listdir('mask/test/'):\n",
    "    files.append(filename)\n",
    "    path.append('{}{}'.format(folder,filename))"
   ]
  },
  {
   "cell_type": "code",
   "execution_count": null,
   "metadata": {
    "collapsed": true
   },
   "outputs": [],
   "source": [
    "fig, axs = plt.subplots(2, 3, figsize=(12, 8))\n",
    "axs = axs.ravel()\n",
    "for i in range(len(path)):\n",
    "    img = load_img(path=path[i],grayscale=True, target_size=(150,150), interpolation='nearest')\n",
    "    axs[i].imshow(img)\n",
    "    axs[i].set_title(files[i])"
   ]
  },
  {
   "cell_type": "code",
   "execution_count": null,
   "metadata": {
    "collapsed": true
   },
   "outputs": [],
   "source": [
    "# Read data form training and test "
   ]
  },
  {
   "cell_type": "code",
   "execution_count": 8,
   "metadata": {},
   "outputs": [],
   "source": [
    "X_train,Y_train, num_bands = utils.load_data(data_path = train_data_path, \n",
    "                                             masks_path = train_mask_path, \n",
    "                                             crop_size = 33, \n",
    "                                             num_classes = 6, \n",
    "                                             samples = 1000, \n",
    "                                             balance = True)"
   ]
  },
  {
   "cell_type": "code",
   "execution_count": 9,
   "metadata": {},
   "outputs": [],
   "source": [
    "X_test,Y_test, num_bands = utils.load_data(data_path = test_data_path, \n",
    "                                           masks_path = test_mask_path, \n",
    "                                           crop_size = 33, \n",
    "                                           num_classes = 6, \n",
    "                                           samples = 1000, \n",
    "                                           balance = True)"
   ]
  },
  {
   "cell_type": "code",
   "execution_count": 10,
   "metadata": {},
   "outputs": [],
   "source": [
    "# creat generato"
   ]
  },
  {
   "cell_type": "code",
   "execution_count": 11,
   "metadata": {},
   "outputs": [
    {
     "name": "stdout",
     "output_type": "stream",
     "text": [
      "<class 'numpy.ndarray'> <class 'numpy.ndarray'>\n",
      "(6000, 33, 33, 16) (6000, 6) 16\n",
      "(6000, 33, 33, 16) (6000, 6) 16\n"
     ]
    }
   ],
   "source": [
    "print(type(X_train), type(Y_train))\n",
    "print(X_train.shape, Y_train.shape, num_bands)\n",
    "print(X_test.shape,  Y_test.shape,  num_bands)"
   ]
  },
  {
   "cell_type": "code",
   "execution_count": 12,
   "metadata": {},
   "outputs": [],
   "source": [
    "X_train = np.array([X_train[i] for i in range(X_train.shape[0])])"
   ]
  },
  {
   "cell_type": "code",
   "execution_count": 13,
   "metadata": {},
   "outputs": [],
   "source": [
    "X_test = np.array([X_test[i] for i in range(X_test.shape[0])])"
   ]
  },
  {
   "cell_type": "code",
   "execution_count": 14,
   "metadata": {},
   "outputs": [],
   "source": [
    "Y_train = np.array([Y_train[i,:] for i in range(Y_train.shape[0])])"
   ]
  },
  {
   "cell_type": "code",
   "execution_count": 15,
   "metadata": {},
   "outputs": [],
   "source": [
    "Y_test = np.array([Y_test[i,:] for i in range(Y_test.shape[0])])"
   ]
  },
  {
   "cell_type": "code",
   "execution_count": null,
   "metadata": {
    "collapsed": true
   },
   "outputs": [],
   "source": []
  },
  {
   "cell_type": "markdown",
   "metadata": {},
   "source": [
    "# Build First Model"
   ]
  },
  {
   "cell_type": "code",
   "execution_count": 31,
   "metadata": {},
   "outputs": [],
   "source": [
    "# model = Sequential()\n",
    "# model.add(Conv2D(32, (3, 3), input_shape=(33, 33, 16)))\n",
    "# model.add(Activation('relu'))\n",
    "# model.add(MaxPooling2D(pool_size=(2, 2)))\n",
    "\n",
    "# model.add(Conv2D(32, (3, 3)))\n",
    "# model.add(Activation('relu'))\n",
    "# model.add(MaxPooling2D(pool_size=(2, 2)))\n",
    "\n",
    "# model.add(Conv2D(64, (3, 3)))\n",
    "# model.add(Activation('relu'))\n",
    "# model.add(MaxPooling2D(pool_size=(2, 2)))\n",
    "\n",
    "# model.add(Flatten())\n",
    "# model.add(Dense(64))\n",
    "# model.add(Activation('relu'))\n",
    "# model.add(Dropout(0.5))\n",
    "# model.add(Dense(6))\n",
    "# model.add(Activation('softmax'))\n",
    "\n",
    "model = Sequential()\n",
    "model.add(Conv2D(filters=8, kernel_size=(5, 5), strides=(1, 1),\n",
    "                 activation='relu',\n",
    "                 input_shape=(33, 33, 16),\n",
    "                 kernel_regularizer=l2(0.01)))\n",
    "\n",
    "model.add(MaxPooling2D(pool_size=(2, 2),\n",
    "                       strides=(2, 2)))\n",
    "\n",
    "model.add(Conv2D(filters=32, kernel_size=(5, 5),\n",
    "                 strides=(1, 1),\n",
    "                 activation='relu',\n",
    "                 kernel_regularizer=l2(0.01)))\n",
    "\n",
    "model.add(MaxPooling2D(pool_size=(2, 2),\n",
    "                       strides=(2, 2)))\n",
    "model.add(Flatten())\n",
    "model.add(Dense(128,\n",
    "                activation='relu',\n",
    "                kernel_regularizer=l2(0.01)))\n",
    "model.add(Dense(6,\n",
    "                activation='softmax',\n",
    "                kernel_regularizer=l2(0.01)))"
   ]
  },
  {
   "cell_type": "code",
   "execution_count": 37,
   "metadata": {},
   "outputs": [],
   "source": [
    "filepath=\"Model_1_best.h5\"\n",
    "checkpoint = ModelCheckpoint(filepath, monitor='val_acc', verbose=1, save_best_only=True, mode='max')\n",
    "tbCallBack = TensorBoard(log_dir='./logs', histogram_freq=0, write_graph=True, write_images=True)\n",
    "#callbacks_list = [checkpoint,tbCallBack]"
   ]
  },
  {
   "cell_type": "code",
   "execution_count": 38,
   "metadata": {},
   "outputs": [],
   "source": [
    "model.compile(loss=keras.losses.categorical_crossentropy,\n",
    "              optimizer=keras.optimizers.Adam(lr=0.001),\n",
    "              metrics=['accuracy'])"
   ]
  },
  {
   "cell_type": "code",
   "execution_count": 39,
   "metadata": {},
   "outputs": [
    {
     "name": "stdout",
     "output_type": "stream",
     "text": [
      "Train on 6000 samples, validate on 6000 samples\n",
      "Epoch 1/30\n",
      "6000/6000 [==============================] - 2s 343us/step - loss: 0.3219 - acc: 0.9427 - val_loss: 1.0216 - val_acc: 0.7133\n",
      "Epoch 2/30\n",
      "6000/6000 [==============================] - 2s 280us/step - loss: 0.3423 - acc: 0.9402 - val_loss: 1.3237 - val_acc: 0.6668\n",
      "Epoch 3/30\n",
      "6000/6000 [==============================] - 2s 290us/step - loss: 0.3226 - acc: 0.9472 - val_loss: 1.4526 - val_acc: 0.6553\n",
      "Epoch 4/30\n",
      "6000/6000 [==============================] - 2s 290us/step - loss: 0.3070 - acc: 0.9508 - val_loss: 1.0184 - val_acc: 0.7008\n",
      "Epoch 5/30\n",
      "6000/6000 [==============================] - 2s 281us/step - loss: 0.3105 - acc: 0.9490 - val_loss: 0.9841 - val_acc: 0.7093\n",
      "Epoch 6/30\n",
      "6000/6000 [==============================] - 2s 280us/step - loss: 0.3146 - acc: 0.9480 - val_loss: 0.9617 - val_acc: 0.7155\n",
      "Epoch 7/30\n",
      "6000/6000 [==============================] - 2s 281us/step - loss: 0.3095 - acc: 0.9502 - val_loss: 1.1652 - val_acc: 0.6612\n",
      "Epoch 8/30\n",
      "6000/6000 [==============================] - 2s 281us/step - loss: 0.2954 - acc: 0.9532 - val_loss: 1.0705 - val_acc: 0.6683\n",
      "Epoch 9/30\n",
      "6000/6000 [==============================] - 2s 283us/step - loss: 0.3019 - acc: 0.9518 - val_loss: 1.0464 - val_acc: 0.6712\n",
      "Epoch 10/30\n",
      "6000/6000 [==============================] - 2s 282us/step - loss: 0.3102 - acc: 0.9492 - val_loss: 1.5880 - val_acc: 0.6463\n",
      "Epoch 11/30\n",
      "6000/6000 [==============================] - 2s 283us/step - loss: 0.3138 - acc: 0.9498 - val_loss: 1.0277 - val_acc: 0.7025\n",
      "Epoch 12/30\n",
      "6000/6000 [==============================] - 2s 282us/step - loss: 0.3068 - acc: 0.9498 - val_loss: 1.6047 - val_acc: 0.6520\n",
      "Epoch 13/30\n",
      "6000/6000 [==============================] - 2s 282us/step - loss: 0.2883 - acc: 0.9578 - val_loss: 1.2257 - val_acc: 0.6672\n",
      "Epoch 14/30\n",
      "6000/6000 [==============================] - 2s 282us/step - loss: 0.2980 - acc: 0.9510 - val_loss: 1.4748 - val_acc: 0.6357\n",
      "Epoch 15/30\n",
      "6000/6000 [==============================] - 2s 280us/step - loss: 0.3033 - acc: 0.9530 - val_loss: 1.0949 - val_acc: 0.6842\n",
      "Epoch 16/30\n",
      "6000/6000 [==============================] - 2s 281us/step - loss: 0.2972 - acc: 0.9533 - val_loss: 1.1518 - val_acc: 0.6822\n",
      "Epoch 17/30\n",
      "6000/6000 [==============================] - 2s 280us/step - loss: 0.2908 - acc: 0.9563 - val_loss: 0.8661 - val_acc: 0.7787\n",
      "Epoch 18/30\n",
      "6000/6000 [==============================] - 2s 279us/step - loss: 0.2927 - acc: 0.9545 - val_loss: 1.1719 - val_acc: 0.6722\n",
      "Epoch 19/30\n",
      "6000/6000 [==============================] - 2s 280us/step - loss: 0.3005 - acc: 0.9487 - val_loss: 1.1473 - val_acc: 0.6953\n",
      "Epoch 20/30\n",
      "6000/6000 [==============================] - 2s 280us/step - loss: 0.2812 - acc: 0.9602 - val_loss: 1.0191 - val_acc: 0.6953\n",
      "Epoch 21/30\n",
      "6000/6000 [==============================] - 2s 280us/step - loss: 0.2830 - acc: 0.9570 - val_loss: 1.1830 - val_acc: 0.6887\n",
      "Epoch 22/30\n",
      "6000/6000 [==============================] - 2s 282us/step - loss: 0.2956 - acc: 0.9518 - val_loss: 1.1547 - val_acc: 0.6722\n",
      "Epoch 23/30\n",
      "6000/6000 [==============================] - 2s 282us/step - loss: 0.3019 - acc: 0.9532 - val_loss: 1.2459 - val_acc: 0.6963\n",
      "Epoch 24/30\n",
      "6000/6000 [==============================] - 2s 286us/step - loss: 0.2904 - acc: 0.9562 - val_loss: 1.2538 - val_acc: 0.6840\n",
      "Epoch 25/30\n",
      "6000/6000 [==============================] - 2s 285us/step - loss: 0.2846 - acc: 0.9550 - val_loss: 1.1667 - val_acc: 0.6690\n",
      "Epoch 26/30\n",
      "6000/6000 [==============================] - 2s 287us/step - loss: 0.2904 - acc: 0.9533 - val_loss: 1.2382 - val_acc: 0.6475\n",
      "Epoch 27/30\n",
      "6000/6000 [==============================] - 2s 282us/step - loss: 0.2906 - acc: 0.9550 - val_loss: 1.0855 - val_acc: 0.7022\n",
      "Epoch 28/30\n",
      "6000/6000 [==============================] - 2s 290us/step - loss: 0.2897 - acc: 0.9557 - val_loss: 1.5913 - val_acc: 0.6550\n",
      "Epoch 29/30\n",
      "6000/6000 [==============================] - 2s 283us/step - loss: 0.3002 - acc: 0.9523 - val_loss: 0.9874 - val_acc: 0.7637\n",
      "Epoch 30/30\n",
      "6000/6000 [==============================] - 2s 281us/step - loss: 0.2812 - acc: 0.9583 - val_loss: 1.3363 - val_acc: 0.6827\n"
     ]
    },
    {
     "data": {
      "text/plain": [
       "<keras.callbacks.History at 0x7f1030ad2ef0>"
      ]
     },
     "execution_count": 39,
     "metadata": {},
     "output_type": "execute_result"
    }
   ],
   "source": [
    "model.fit(X_train, Y_train,\n",
    "          epochs = 30,\n",
    "          verbose = 1,\n",
    "          batch_size= 50,\n",
    "          validation_data=(X_test, Y_test),\n",
    "          callbacks = [tbCallBack] )"
   ]
  },
  {
   "cell_type": "code",
   "execution_count": 25,
   "metadata": {},
   "outputs": [],
   "source": [
    "model = load_model('Model_1_best.h5')"
   ]
  },
  {
   "cell_type": "code",
   "execution_count": 26,
   "metadata": {},
   "outputs": [
    {
     "name": "stdout",
     "output_type": "stream",
     "text": [
      "True conv2d_1\n",
      "True max_pooling2d_1\n",
      "True conv2d_2\n",
      "True max_pooling2d_2\n",
      "True flatten_1\n",
      "True dense_1\n",
      "True dense_2\n"
     ]
    }
   ],
   "source": [
    "# this make aure all the layers are trainable\n",
    "for layer in model.layers:\n",
    "    print(layer.trainable,layer.name)"
   ]
  },
  {
   "cell_type": "code",
   "execution_count": 40,
   "metadata": {},
   "outputs": [
    {
     "ename": "ModuleNotFoundError",
     "evalue": "No module named '__main__._conv'; '__main__' is not a package",
     "output_type": "error",
     "traceback": [
      "\u001b[0;31m---------------------------------------------------------------------------\u001b[0m",
      "\u001b[0;31mModuleNotFoundError\u001b[0m                       Traceback (most recent call last)",
      "\u001b[0;32m<ipython-input-40-c77886e24f10>\u001b[0m in \u001b[0;36m<module>\u001b[0;34m()\u001b[0m\n\u001b[0;32m----> 1\u001b[0;31m \u001b[0;32mfrom\u001b[0m \u001b[0;34m.\u001b[0m\u001b[0m_conv\u001b[0m \u001b[0;32mimport\u001b[0m \u001b[0mregister_converters\u001b[0m \u001b[0;32mas\u001b[0m \u001b[0m_register_converters\u001b[0m\u001b[0;34m\u001b[0m\u001b[0m\n\u001b[0m",
      "\u001b[0;31mModuleNotFoundError\u001b[0m: No module named '__main__._conv'; '__main__' is not a package"
     ]
    }
   ],
   "source": []
  },
  {
   "cell_type": "code",
   "execution_count": null,
   "metadata": {},
   "outputs": [],
   "source": []
  }
 ],
 "metadata": {
  "kernelspec": {
   "display_name": "Python 3",
   "language": "python",
   "name": "python3"
  },
  "language_info": {
   "codemirror_mode": {
    "name": "ipython",
    "version": 3
   },
   "file_extension": ".py",
   "mimetype": "text/x-python",
   "name": "python",
   "nbconvert_exporter": "python",
   "pygments_lexer": "ipython3",
   "version": "3.6.6"
  }
 },
 "nbformat": 4,
 "nbformat_minor": 2
}
