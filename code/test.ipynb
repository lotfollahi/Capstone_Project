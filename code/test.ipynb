{
 "cells": [
  {
   "cell_type": "code",
   "execution_count": 1,
   "metadata": {},
   "outputs": [
    {
     "name": "stderr",
     "output_type": "stream",
     "text": [
      "/home/ec2-user/anaconda3/envs/tensorflow_p36/lib/python3.6/site-packages/h5py/__init__.py:36: FutureWarning: Conversion of the second argument of issubdtype from `float` to `np.floating` is deprecated. In future, it will be treated as `np.float64 == np.dtype(float).type`.\n",
      "  from ._conv import register_converters as _register_converters\n",
      "Using TensorFlow backend.\n"
     ]
    }
   ],
   "source": [
    "%matplotlib inline\n",
    "import matplotlib.pyplot as plt\n",
    "import utils\n",
    "import pandas as pd\n",
    "import numpy as np\n",
    "from keras.preprocessing.image import ImageDataGenerator, array_to_img, img_to_array, load_img\n",
    "import os\n",
    "from PIL import Image\n",
    "Image.MAX_IMAGE_PIXELS = 1000000000"
   ]
  },
  {
   "cell_type": "code",
   "execution_count": 2,
   "metadata": {},
   "outputs": [],
   "source": [
    "import keras\n",
    "from keras.models import Sequential, Model, Input\n",
    "from keras.layers import Dense, Dropout, Activation\n",
    "from keras.layers import Conv2D, MaxPooling2D, Flatten\n",
    "from keras.regularizers import l2"
   ]
  },
  {
   "cell_type": "code",
   "execution_count": 3,
   "metadata": {},
   "outputs": [],
   "source": [
    "train_data_path = '/home/ec2-user/Capstone_Project/code/left-pca16' # Full path should be given here \n",
    "train_mask_path = 'mask/train/'\n",
    "test_data_path = '/home/ec2-user/Capstone_Project/code/right-pca16' # Full path should be given here \n",
    "test_mask_path = 'mask/test/'"
   ]
  },
  {
   "cell_type": "markdown",
   "metadata": {},
   "source": [
    "## Visualize Masks"
   ]
  },
  {
   "cell_type": "code",
   "execution_count": 4,
   "metadata": {},
   "outputs": [],
   "source": [
    "# files = []\n",
    "# folder = 'mask/train/'\n",
    "# path = []\n",
    "# for filename in os.listdir('mask/train/'):\n",
    "#     files.append(filename)\n",
    "#     path.append('{}{}'.format(folder,filename))"
   ]
  },
  {
   "cell_type": "code",
   "execution_count": 5,
   "metadata": {},
   "outputs": [],
   "source": [
    "# fig, axs = plt.subplots(2, 3, figsize=(12, 8))\n",
    "# axs = axs.ravel()\n",
    "# for i in range(len(path)):\n",
    "#     img = load_img(path=path[i],grayscale=True, target_size=(150,150), interpolation='nearest')\n",
    "#     axs[i].imshow(img)\n",
    "#     axs[i].set_title(files[i])"
   ]
  },
  {
   "cell_type": "code",
   "execution_count": 6,
   "metadata": {},
   "outputs": [],
   "source": [
    "# files = []\n",
    "# folder = 'mask/test/'\n",
    "# path = []\n",
    "# for filename in os.listdir('mask/test/'):\n",
    "#     files.append(filename)\n",
    "#     path.append('{}{}'.format(folder,filename))"
   ]
  },
  {
   "cell_type": "code",
   "execution_count": 7,
   "metadata": {},
   "outputs": [],
   "source": [
    "# fig, axs = plt.subplots(2, 3, figsize=(12, 8))\n",
    "# axs = axs.ravel()\n",
    "# for i in range(len(path)):\n",
    "#     img = load_img(path=path[i],grayscale=True, target_size=(150,150), interpolation='nearest')\n",
    "#     axs[i].imshow(img)\n",
    "#     axs[i].set_title(files[i])"
   ]
  },
  {
   "cell_type": "code",
   "execution_count": 8,
   "metadata": {},
   "outputs": [],
   "source": [
    "# Read data form training and test "
   ]
  },
  {
   "cell_type": "code",
   "execution_count": 9,
   "metadata": {},
   "outputs": [
    {
     "name": "stdout",
     "output_type": "stream",
     "text": [
      "['ado-left-hd.png', 'blood-left-brc961-hd.png', 'col-left-brc961-hd.png', 'epi-left-brc961-hd.png', 'myo-left-brc961-hd.png', 'nec-left-brc961-hd.png']\n"
     ]
    }
   ],
   "source": [
    "X_train,Y_train, num_bands = utils.load_data(data_path = train_data_path, \n",
    "                                             masks_path = train_mask_path, \n",
    "                                             crop_size = 33, \n",
    "                                             num_classes = 6, \n",
    "                                             samples = 100, \n",
    "                                             balance = True)"
   ]
  },
  {
   "cell_type": "code",
   "execution_count": null,
   "metadata": {},
   "outputs": [],
   "source": []
  },
  {
   "cell_type": "code",
   "execution_count": null,
   "metadata": {},
   "outputs": [],
   "source": []
  },
  {
   "cell_type": "code",
   "execution_count": 10,
   "metadata": {},
   "outputs": [
    {
     "name": "stdout",
     "output_type": "stream",
     "text": [
      "['ado-right-hd.png', 'blo-right-brc961-hd.png', 'col-right-brc961-hd.png', 'epi-right-brc961-hd.png', 'myo-right-brc961-hd.png', 'nec-right-brc961-hd.png']\n"
     ]
    }
   ],
   "source": [
    "X_test,Y_test, num_bands = utils.load_data(data_path = test_data_path, \n",
    "                                           masks_path = test_mask_path, \n",
    "                                           crop_size = 33, \n",
    "                                           num_classes = 6, \n",
    "                                           samples = 1000, \n",
    "                                           balance = True)"
   ]
  },
  {
   "cell_type": "code",
   "execution_count": null,
   "metadata": {
    "collapsed": true
   },
   "outputs": [],
   "source": [
    "# creat generato"
   ]
  },
  {
   "cell_type": "code",
   "execution_count": 7,
   "metadata": {},
   "outputs": [
    {
     "name": "stdout",
     "output_type": "stream",
     "text": [
      "<class 'numpy.ndarray'> <class 'numpy.ndarray'>\n",
      "(6000, 33, 33, 16) (6000, 6) 16\n",
      "(6000, 33, 33, 16) (6000, 6) 16\n"
     ]
    }
   ],
   "source": [
    "print(type(X_train), type(Y_train))\n",
    "print(X_train.shape, Y_train.shape, num_bands)\n",
    "print(X_test.shape,  Y_test.shape,  num_bands)"
   ]
  },
  {
   "cell_type": "code",
   "execution_count": 8,
   "metadata": {},
   "outputs": [],
   "source": [
    "X_train_list = np.array([X_train[i] for i in range(X_train.shape[0])])"
   ]
  },
  {
   "cell_type": "code",
   "execution_count": 9,
   "metadata": {},
   "outputs": [],
   "source": [
    "X_test_list = np.array([X_test[i] for i in range(X_test.shape[0])])"
   ]
  },
  {
   "cell_type": "code",
   "execution_count": 10,
   "metadata": {},
   "outputs": [],
   "source": [
    "Y_train_list = np.array([Y_train[i,:] for i in range(Y_train.shape[0])])"
   ]
  },
  {
   "cell_type": "code",
   "execution_count": 11,
   "metadata": {},
   "outputs": [],
   "source": [
    "Y_test_list = np.array([Y_test[i,:] for i in range(Y_test.shape[0])])"
   ]
  },
  {
   "cell_type": "code",
   "execution_count": null,
   "metadata": {
    "collapsed": true
   },
   "outputs": [],
   "source": []
  },
  {
   "cell_type": "markdown",
   "metadata": {},
   "source": [
    "# Build First Model"
   ]
  },
  {
   "cell_type": "code",
   "execution_count": 12,
   "metadata": {},
   "outputs": [],
   "source": [
    "# model = Sequential()\n",
    "# model.add(Conv2D(32, (3, 3), input_shape=(33, 33, 16)))\n",
    "# model.add(Activation('relu'))\n",
    "# model.add(MaxPooling2D(pool_size=(2, 2)))\n",
    "\n",
    "# model.add(Conv2D(32, (3, 3)))\n",
    "# model.add(Activation('relu'))\n",
    "# model.add(MaxPooling2D(pool_size=(2, 2)))\n",
    "\n",
    "# model.add(Conv2D(64, (3, 3)))\n",
    "# model.add(Activation('relu'))\n",
    "# model.add(MaxPooling2D(pool_size=(2, 2)))\n",
    "\n",
    "# model.add(Flatten())\n",
    "# model.add(Dense(64))\n",
    "# model.add(Activation('relu'))\n",
    "# model.add(Dropout(0.5))\n",
    "# model.add(Dense(6))\n",
    "# model.add(Activation('softmax'))\n",
    "\n",
    "model = Sequential()\n",
    "model.add(Conv2D(filters=8, kernel_size=(5, 5), strides=(1, 1),\n",
    "                 activation='relu',\n",
    "                 input_shape=(33, 33, 16),\n",
    "                 kernel_regularizer=l2(0.01)))\n",
    "\n",
    "model.add(MaxPooling2D(pool_size=(2, 2),\n",
    "                       strides=(2, 2)))\n",
    "\n",
    "model.add(Conv2D(filters=32, kernel_size=(5, 5),\n",
    "                 strides=(1, 1),\n",
    "                 activation='relu',\n",
    "                 kernel_regularizer=l2(0.01)))\n",
    "\n",
    "model.add(MaxPooling2D(pool_size=(2, 2),\n",
    "                       strides=(2, 2)))\n",
    "model.add(Flatten())\n",
    "model.add(Dense(128,\n",
    "                activation='relu',\n",
    "                kernel_regularizer=l2(0.01)))\n",
    "model.add(Dense(6,\n",
    "                activation='softmax',\n",
    "                kernel_regularizer=l2(0.01)))"
   ]
  },
  {
   "cell_type": "code",
   "execution_count": 13,
   "metadata": {},
   "outputs": [],
   "source": [
    "model.compile(loss=keras.losses.categorical_crossentropy,\n",
    "              optimizer=keras.optimizers.Adam(lr=0.001),\n",
    "              metrics=['accuracy'])"
   ]
  },
  {
   "cell_type": "code",
   "execution_count": 16,
   "metadata": {},
   "outputs": [
    {
     "name": "stdout",
     "output_type": "stream",
     "text": [
      "Train on 6000 samples, validate on 6000 samples\n",
      "Epoch 1/20\n",
      "6000/6000 [==============================] - 2s 278us/step - loss: 0.4326 - acc: 0.9252 - val_loss: 1.2143 - val_acc: 0.6880\n",
      "Epoch 2/20\n",
      "6000/6000 [==============================] - 2s 279us/step - loss: 0.3934 - acc: 0.9388 - val_loss: 1.1361 - val_acc: 0.6277\n",
      "Epoch 3/20\n",
      "6000/6000 [==============================] - 2s 281us/step - loss: 0.3803 - acc: 0.9372 - val_loss: 1.1161 - val_acc: 0.7028\n",
      "Epoch 4/20\n",
      "6000/6000 [==============================] - 2s 280us/step - loss: 0.3728 - acc: 0.9400 - val_loss: 1.3523 - val_acc: 0.6535\n",
      "Epoch 5/20\n",
      "6000/6000 [==============================] - 2s 281us/step - loss: 0.3778 - acc: 0.9318 - val_loss: 1.2231 - val_acc: 0.6743\n",
      "Epoch 6/20\n",
      "6000/6000 [==============================] - 2s 278us/step - loss: 0.3678 - acc: 0.9372 - val_loss: 1.2819 - val_acc: 0.6568\n",
      "Epoch 7/20\n",
      "6000/6000 [==============================] - 2s 279us/step - loss: 0.3576 - acc: 0.9372 - val_loss: 0.9631 - val_acc: 0.7233\n",
      "Epoch 8/20\n",
      "6000/6000 [==============================] - 2s 285us/step - loss: 0.3585 - acc: 0.9387 - val_loss: 1.1491 - val_acc: 0.6630\n",
      "Epoch 9/20\n",
      "6000/6000 [==============================] - 2s 288us/step - loss: 0.3355 - acc: 0.9490 - val_loss: 1.0652 - val_acc: 0.7222\n",
      "Epoch 10/20\n",
      "6000/6000 [==============================] - 2s 277us/step - loss: 0.3355 - acc: 0.9453 - val_loss: 1.0894 - val_acc: 0.7122\n",
      "Epoch 11/20\n",
      "6000/6000 [==============================] - 2s 279us/step - loss: 0.3258 - acc: 0.9498 - val_loss: 1.0024 - val_acc: 0.6980\n",
      "Epoch 12/20\n",
      "6000/6000 [==============================] - 2s 278us/step - loss: 0.3299 - acc: 0.9455 - val_loss: 1.2152 - val_acc: 0.7345\n",
      "Epoch 13/20\n",
      "6000/6000 [==============================] - 2s 279us/step - loss: 0.3284 - acc: 0.9490 - val_loss: 1.0139 - val_acc: 0.7018\n",
      "Epoch 14/20\n",
      "6000/6000 [==============================] - 2s 278us/step - loss: 0.3185 - acc: 0.9502 - val_loss: 1.0736 - val_acc: 0.7865\n",
      "Epoch 15/20\n",
      "6000/6000 [==============================] - 2s 278us/step - loss: 0.3275 - acc: 0.9477 - val_loss: 1.2191 - val_acc: 0.7098\n",
      "Epoch 16/20\n",
      "6000/6000 [==============================] - 2s 280us/step - loss: 0.3177 - acc: 0.9503 - val_loss: 0.9054 - val_acc: 0.7345\n",
      "Epoch 17/20\n",
      "6000/6000 [==============================] - 2s 282us/step - loss: 0.3177 - acc: 0.9525 - val_loss: 0.9035 - val_acc: 0.8077\n",
      "Epoch 18/20\n",
      "6000/6000 [==============================] - 2s 278us/step - loss: 0.3321 - acc: 0.9432 - val_loss: 0.9792 - val_acc: 0.7563\n",
      "Epoch 19/20\n",
      "6000/6000 [==============================] - 2s 279us/step - loss: 0.3194 - acc: 0.9498 - val_loss: 0.9994 - val_acc: 0.7553\n",
      "Epoch 20/20\n",
      "6000/6000 [==============================] - 2s 278us/step - loss: 0.3072 - acc: 0.9552 - val_loss: 0.9808 - val_acc: 0.7852\n"
     ]
    },
    {
     "data": {
      "text/plain": [
       "<keras.callbacks.History at 0x7f5b4a771080>"
      ]
     },
     "execution_count": 16,
     "metadata": {},
     "output_type": "execute_result"
    }
   ],
   "source": [
    "model.fit(X_train_list, Y_train_list,\n",
    "          epochs = 20,\n",
    "          verbose = 1,\n",
    "          batch_size= 50,\n",
    "          validation_data=(X_test_list, Y_test_list))"
   ]
  },
  {
   "cell_type": "code",
   "execution_count": null,
   "metadata": {},
   "outputs": [],
   "source": []
  },
  {
   "cell_type": "code",
   "execution_count": null,
   "metadata": {},
   "outputs": [],
   "source": []
  },
  {
   "cell_type": "code",
   "execution_count": null,
   "metadata": {},
   "outputs": [],
   "source": []
  },
  {
   "cell_type": "code",
   "execution_count": 4,
   "metadata": {},
   "outputs": [
    {
     "name": "stdout",
     "output_type": "stream",
     "text": [
      "\n",
      "\n",
      " balance:  True\n",
      "\n",
      " number of samples:  6000 \n",
      "\n",
      "loading class:  1  - samples:  1000\n",
      "loading class:  2  - samples:  1000\n",
      "loading class:  3  - samples:  1000\n",
      "loading class:  4  - samples:  1000\n",
      "loading class:  5  - samples:  1000\n",
      "loading class:  6  - samples:  1000\n",
      "\n",
      "\n",
      " balance:  True\n",
      "\n",
      " number of samples:  6000 \n",
      "\n",
      "loading class:  1  - samples:  1000\n",
      "loading class:  2  - samples:  1000\n",
      "loading class:  3  - samples:  1000\n",
      "loading class:  4  - samples:  1000\n",
      "loading class:  5  - samples:  1000\n",
      "loading class:  6  - samples:  1000\n"
     ]
    }
   ],
   "source": [
    "X_train,Y_train, num_bands = utils.load_data(data_path = train_data_path, \n",
    "                                             masks_path = train_mask_path, \n",
    "                                             crop_size = 17, \n",
    "                                             num_classes = 6, \n",
    "                                             samples = 1000, \n",
    "                                             balance = True)\n",
    "\n",
    "X_test,Y_test, num_bands = utils.load_data(data_path = test_data_path, \n",
    "                                           masks_path = test_mask_path, \n",
    "                                           crop_size = 17, \n",
    "                                           num_classes = 6, \n",
    "                                           samples = 1000, \n",
    "                                           balance = True)"
   ]
  },
  {
   "cell_type": "code",
   "execution_count": 5,
   "metadata": {},
   "outputs": [],
   "source": [
    "X_train_list = np.array([X_train[i] for i in range(X_train.shape[0])])\n",
    "X_test_list = np.array([X_test[i] for i in range(X_test.shape[0])])\n",
    "Y_train_list = np.array([Y_train[i,:] for i in range(Y_train.shape[0])])\n",
    "Y_test_list = np.array([Y_test[i,:] for i in range(Y_test.shape[0])])"
   ]
  },
  {
   "cell_type": "code",
   "execution_count": 6,
   "metadata": {},
   "outputs": [],
   "source": [
    "model = Sequential()\n",
    "model.add(Conv2D(filters=8, kernel_size=(5, 5), strides=(1, 1),\n",
    "                 activation='relu',\n",
    "                 input_shape=(17, 17, 16),\n",
    "                 kernel_regularizer=l2(0.01)))\n",
    "\n",
    "model.add(MaxPooling2D(pool_size=(2, 2),\n",
    "                       strides=(2, 2)))\n",
    "\n",
    "model.add(Conv2D(filters=32, kernel_size=(5, 5),\n",
    "                 strides=(1, 1),\n",
    "                 activation='relu',\n",
    "                 kernel_regularizer=l2(0.01)))\n",
    "\n",
    "model.add(MaxPooling2D(pool_size=(2, 2),\n",
    "                       strides=(2, 2)))\n",
    "model.add(Flatten())\n",
    "model.add(Dense(128,\n",
    "                activation='relu',\n",
    "                kernel_regularizer=l2(0.01)))\n",
    "model.add(Dense(6,\n",
    "                activation='softmax',\n",
    "                kernel_regularizer=l2(0.01)))"
   ]
  },
  {
   "cell_type": "code",
   "execution_count": 7,
   "metadata": {},
   "outputs": [],
   "source": [
    "model.compile(loss=keras.losses.categorical_crossentropy,\n",
    "              optimizer=keras.optimizers.Adam(lr=0.001),\n",
    "              metrics=['accuracy'])"
   ]
  },
  {
   "cell_type": "code",
   "execution_count": 10,
   "metadata": {},
   "outputs": [
    {
     "name": "stdout",
     "output_type": "stream",
     "text": [
      "Train on 6000 samples, validate on 6000 samples\n",
      "Epoch 1/30\n",
      "6000/6000 [==============================] - 1s 156us/step - loss: 0.4196 - acc: 0.9322 - val_loss: 1.0317 - val_acc: 0.7303\n",
      "Epoch 2/30\n",
      "6000/6000 [==============================] - 1s 156us/step - loss: 0.4154 - acc: 0.9310 - val_loss: 1.0370 - val_acc: 0.6965\n",
      "Epoch 3/30\n",
      "6000/6000 [==============================] - 1s 155us/step - loss: 0.4272 - acc: 0.9287 - val_loss: 1.0821 - val_acc: 0.7150\n",
      "Epoch 4/30\n",
      "6000/6000 [==============================] - 1s 156us/step - loss: 0.4196 - acc: 0.9332 - val_loss: 1.1302 - val_acc: 0.6710\n",
      "Epoch 5/30\n",
      "6000/6000 [==============================] - 1s 156us/step - loss: 0.4172 - acc: 0.9330 - val_loss: 0.9785 - val_acc: 0.7353\n",
      "Epoch 6/30\n",
      "6000/6000 [==============================] - 1s 156us/step - loss: 0.4263 - acc: 0.9278 - val_loss: 1.0825 - val_acc: 0.6845\n",
      "Epoch 7/30\n",
      "6000/6000 [==============================] - 1s 155us/step - loss: 0.4173 - acc: 0.9295 - val_loss: 1.0274 - val_acc: 0.7205\n",
      "Epoch 8/30\n",
      "6000/6000 [==============================] - 1s 155us/step - loss: 0.4116 - acc: 0.9310 - val_loss: 1.0669 - val_acc: 0.6947\n",
      "Epoch 9/30\n",
      "6000/6000 [==============================] - 1s 155us/step - loss: 0.4147 - acc: 0.9318 - val_loss: 1.0077 - val_acc: 0.7248\n",
      "Epoch 10/30\n",
      "6000/6000 [==============================] - 1s 156us/step - loss: 0.4132 - acc: 0.9323 - val_loss: 1.1570 - val_acc: 0.6542\n",
      "Epoch 11/30\n",
      "6000/6000 [==============================] - 1s 155us/step - loss: 0.4099 - acc: 0.9342 - val_loss: 1.1391 - val_acc: 0.6523\n",
      "Epoch 12/30\n",
      "6000/6000 [==============================] - 1s 156us/step - loss: 0.4147 - acc: 0.9315 - val_loss: 0.9917 - val_acc: 0.7208\n",
      "Epoch 13/30\n",
      "6000/6000 [==============================] - 1s 156us/step - loss: 0.4108 - acc: 0.9323 - val_loss: 0.9626 - val_acc: 0.7388\n",
      "Epoch 14/30\n",
      "6000/6000 [==============================] - 1s 156us/step - loss: 0.4098 - acc: 0.9327 - val_loss: 1.1571 - val_acc: 0.6085\n",
      "Epoch 15/30\n",
      "6000/6000 [==============================] - 1s 155us/step - loss: 0.4089 - acc: 0.9330 - val_loss: 1.0101 - val_acc: 0.7147\n",
      "Epoch 16/30\n",
      "6000/6000 [==============================] - 1s 156us/step - loss: 0.4156 - acc: 0.9312 - val_loss: 0.9976 - val_acc: 0.7342\n",
      "Epoch 17/30\n",
      "6000/6000 [==============================] - 1s 155us/step - loss: 0.4234 - acc: 0.9300 - val_loss: 1.0733 - val_acc: 0.6998\n",
      "Epoch 18/30\n",
      "6000/6000 [==============================] - 1s 155us/step - loss: 0.4055 - acc: 0.9348 - val_loss: 1.0523 - val_acc: 0.6800\n",
      "Epoch 19/30\n",
      "6000/6000 [==============================] - 1s 155us/step - loss: 0.4101 - acc: 0.9337 - val_loss: 1.0335 - val_acc: 0.6925\n",
      "Epoch 20/30\n",
      "6000/6000 [==============================] - 1s 156us/step - loss: 0.4063 - acc: 0.9355 - val_loss: 1.0296 - val_acc: 0.6773\n",
      "Epoch 21/30\n",
      "6000/6000 [==============================] - 1s 155us/step - loss: 0.4146 - acc: 0.9305 - val_loss: 1.1506 - val_acc: 0.6375\n",
      "Epoch 22/30\n",
      "6000/6000 [==============================] - 1s 155us/step - loss: 0.4067 - acc: 0.9363 - val_loss: 1.1188 - val_acc: 0.6515\n",
      "Epoch 23/30\n",
      "6000/6000 [==============================] - 1s 156us/step - loss: 0.4116 - acc: 0.9337 - val_loss: 1.0374 - val_acc: 0.7078\n",
      "Epoch 24/30\n",
      "6000/6000 [==============================] - 1s 156us/step - loss: 0.4077 - acc: 0.9333 - val_loss: 1.0756 - val_acc: 0.6758\n",
      "Epoch 25/30\n",
      "6000/6000 [==============================] - 1s 155us/step - loss: 0.4053 - acc: 0.9342 - val_loss: 0.9951 - val_acc: 0.7197\n",
      "Epoch 26/30\n",
      "6000/6000 [==============================] - 1s 156us/step - loss: 0.4110 - acc: 0.9297 - val_loss: 1.0066 - val_acc: 0.7197\n",
      "Epoch 27/30\n",
      "6000/6000 [==============================] - 1s 156us/step - loss: 0.4011 - acc: 0.9360 - val_loss: 1.1713 - val_acc: 0.6192\n",
      "Epoch 28/30\n",
      "6000/6000 [==============================] - 1s 156us/step - loss: 0.4064 - acc: 0.9337 - val_loss: 1.0246 - val_acc: 0.6968\n",
      "Epoch 29/30\n",
      "6000/6000 [==============================] - 1s 156us/step - loss: 0.4117 - acc: 0.9340 - val_loss: 0.9331 - val_acc: 0.7507\n",
      "Epoch 30/30\n",
      "6000/6000 [==============================] - 1s 156us/step - loss: 0.4027 - acc: 0.9368 - val_loss: 1.0242 - val_acc: 0.7168\n"
     ]
    },
    {
     "data": {
      "text/plain": [
       "<keras.callbacks.History at 0x7ff7fc59cdd8>"
      ]
     },
     "execution_count": 10,
     "metadata": {},
     "output_type": "execute_result"
    }
   ],
   "source": [
    "model.fit(X_train_list, Y_train_list,\n",
    "          epochs = 30,\n",
    "          verbose = 1,\n",
    "          batch_size= 50,\n",
    "          validation_data=(X_test_list, Y_test_list))"
   ]
  },
  {
   "cell_type": "code",
   "execution_count": null,
   "metadata": {},
   "outputs": [],
   "source": []
  },
  {
   "cell_type": "code",
   "execution_count": null,
   "metadata": {},
   "outputs": [],
   "source": []
  },
  {
   "cell_type": "code",
   "execution_count": null,
   "metadata": {},
   "outputs": [],
   "source": []
  },
  {
   "cell_type": "code",
   "execution_count": null,
   "metadata": {},
   "outputs": [],
   "source": []
  }
 ],
 "metadata": {
  "kernelspec": {
   "display_name": "Python 3",
   "language": "python",
   "name": "python3"
  },
  "language_info": {
   "codemirror_mode": {
    "name": "ipython",
    "version": 3
   },
   "file_extension": ".py",
   "mimetype": "text/x-python",
   "name": "python",
   "nbconvert_exporter": "python",
   "pygments_lexer": "ipython3",
   "version": "3.6.6"
  }
 },
 "nbformat": 4,
 "nbformat_minor": 2
}
