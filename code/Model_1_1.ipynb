{
 "cells": [
  {
   "cell_type": "code",
   "execution_count": 1,
   "metadata": {},
   "outputs": [
    {
     "name": "stderr",
     "output_type": "stream",
     "text": [
      "/home/ec2-user/anaconda3/envs/tensorflow_p36/lib/python3.6/site-packages/h5py/__init__.py:36: FutureWarning: Conversion of the second argument of issubdtype from `float` to `np.floating` is deprecated. In future, it will be treated as `np.float64 == np.dtype(float).type`.\n",
      "  from ._conv import register_converters as _register_converters\n",
      "Using TensorFlow backend.\n"
     ]
    }
   ],
   "source": [
    "%matplotlib inline\n",
    "import matplotlib.pyplot as plt\n",
    "import utils\n",
    "import pandas as pd\n",
    "import numpy as np\n",
    "from keras.preprocessing.image import ImageDataGenerator, array_to_img, img_to_array, load_img\n",
    "import os\n",
    "from PIL import Image\n",
    "Image.MAX_IMAGE_PIXELS = 1000000000"
   ]
  },
  {
   "cell_type": "code",
   "execution_count": 27,
   "metadata": {},
   "outputs": [],
   "source": [
    "import keras\n",
    "from keras.models import Sequential, Model, Input\n",
    "from keras.layers import Dense, Dropout, Activation\n",
    "from keras.layers import Conv2D, MaxPooling2D, Flatten\n",
    "from keras.regularizers import l2\n",
    "from keras.layers.normalization import BatchNormalization\n",
    "from keras.models import load_model\n",
    "import h5py"
   ]
  },
  {
   "cell_type": "code",
   "execution_count": null,
   "metadata": {},
   "outputs": [],
   "source": [
    "filepath=\"weights.best.hdf5\"\n"
   ]
  },
  {
   "cell_type": "code",
   "execution_count": 3,
   "metadata": {},
   "outputs": [],
   "source": [
    "train_data_path = '/home/ec2-user/Capstone_Project/code/left-pca16' # Full path should be given here \n",
    "train_mask_path = 'mask/train/'\n",
    "test_data_path = '/home/ec2-user/Capstone_Project/code/right-pca16' # Full path should be given here \n",
    "test_mask_path = 'mask/test/'"
   ]
  },
  {
   "cell_type": "code",
   "execution_count": 4,
   "metadata": {},
   "outputs": [],
   "source": [
    "# Read data form training and test "
   ]
  },
  {
   "cell_type": "code",
   "execution_count": 15,
   "metadata": {},
   "outputs": [
    {
     "name": "stdout",
     "output_type": "stream",
     "text": [
      "\n",
      "\n",
      " balance:  True\n",
      "\n",
      " number of samples:  300000 \n",
      "\n",
      "loading class:  1  - samples:  50000\n",
      "loading class:  2  - samples:  50000\n",
      "loading class:  3  - samples:  50000\n",
      "loading class:  4  - samples:  50000\n",
      "loading class:  5  - samples:  50000\n",
      "loading class:  6  - samples:  49997\n"
     ]
    }
   ],
   "source": [
    "X_train,Y_train, num_bands = utils.load_data(data_path = train_data_path, \n",
    "                                             masks_path = train_mask_path, \n",
    "                                             crop_size = 33, \n",
    "                                             num_classes = 6, \n",
    "                                             samples = 50000, \n",
    "                                             balance = True)"
   ]
  },
  {
   "cell_type": "code",
   "execution_count": 19,
   "metadata": {},
   "outputs": [
    {
     "name": "stdout",
     "output_type": "stream",
     "text": [
      "\n",
      "\n",
      " balance:  True\n",
      "\n",
      " number of samples:  60000 \n",
      "\n",
      "loading class:  1  - samples:  10000\n",
      "loading class:  2  - samples:  10000\n",
      "loading class:  3  - samples:  10000\n",
      "loading class:  4  - samples:  10000\n",
      "loading class:  5  - samples:  10000\n",
      "loading class:  6  - samples:  10000\n"
     ]
    }
   ],
   "source": [
    "X_test,Y_test, num_bands = utils.load_data(data_path = test_data_path, \n",
    "                                           masks_path = test_mask_path, \n",
    "                                           crop_size = 33, \n",
    "                                           num_classes = 6, \n",
    "                                           samples = 10000, \n",
    "                                           balance = True)"
   ]
  },
  {
   "cell_type": "code",
   "execution_count": 39,
   "metadata": {},
   "outputs": [],
   "source": [
    "# creat generato"
   ]
  },
  {
   "cell_type": "code",
   "execution_count": 17,
   "metadata": {},
   "outputs": [
    {
     "name": "stdout",
     "output_type": "stream",
     "text": [
      "<class 'numpy.ndarray'> <class 'numpy.ndarray'>\n",
      "(299997, 33, 33, 16) (299997, 6) 16\n",
      "(300000, 33, 33, 16) (300000, 6) 16\n"
     ]
    }
   ],
   "source": [
    "print(type(X_train), type(Y_train))\n",
    "print(X_train.shape, Y_train.shape, num_bands)\n",
    "print(X_test.shape,  Y_test.shape,  num_bands)"
   ]
  },
  {
   "cell_type": "code",
   "execution_count": 23,
   "metadata": {},
   "outputs": [],
   "source": [
    "X_train = np.array([X_train[i] for i in range(X_train.shape[0])])"
   ]
  },
  {
   "cell_type": "code",
   "execution_count": 20,
   "metadata": {},
   "outputs": [],
   "source": [
    "X_test = np.array([X_test[i] for i in range(X_test.shape[0])])"
   ]
  },
  {
   "cell_type": "code",
   "execution_count": 21,
   "metadata": {},
   "outputs": [],
   "source": [
    "Y_train = np.array([Y_train[i,:] for i in range(Y_train.shape[0])])"
   ]
  },
  {
   "cell_type": "code",
   "execution_count": 22,
   "metadata": {},
   "outputs": [],
   "source": [
    "Y_test = np.array([Y_test[i,:] for i in range(Y_test.shape[0])])"
   ]
  },
  {
   "cell_type": "code",
   "execution_count": null,
   "metadata": {},
   "outputs": [],
   "source": []
  },
  {
   "cell_type": "markdown",
   "metadata": {},
   "source": [
    "# Build First Model"
   ]
  },
  {
   "cell_type": "code",
   "execution_count": 24,
   "metadata": {},
   "outputs": [],
   "source": [
    "model = Sequential()\n",
    "model.add(Conv2D(filters = 32, kernel_size = (3, 3), strides=(1, 1), input_shape=(33, 33, 16), kernel_regularizer=l2(0.01)))\n",
    "model.add(BatchNormalization())\n",
    "model.add(Activation('softplus'))\n",
    "model.add(MaxPooling2D(pool_size=(2, 2),strides=(2, 2)))\n",
    "\n",
    "model.add(Conv2D(filters = 64, kernel_size = (3, 3), strides=(1, 1), kernel_regularizer=l2(0.01)))\n",
    "model.add(BatchNormalization())\n",
    "model.add(Activation('softplus'))\n",
    "\n",
    "model.add(Conv2D(filters = 64, kernel_size = (3, 3), strides=(1, 1), kernel_regularizer=l2(0.01)))\n",
    "model.add(BatchNormalization())\n",
    "model.add(Activation('softplus'))\n",
    "model.add(MaxPooling2D(pool_size=(2, 2),strides=(2, 2)))\n",
    "\n",
    "model.add(Flatten())\n",
    "model.add(Dense(128, kernel_regularizer=l2(0.01)))\n",
    "model.add(BatchNormalization())\n",
    "model.add(Activation('softplus'))\n",
    "model.add(Dropout(0.5))\n",
    "\n",
    "model.add(Dense(6, kernel_regularizer=l2(0.01)))\n",
    "model.add(Activation('softmax')) "
   ]
  },
  {
   "cell_type": "code",
   "execution_count": 25,
   "metadata": {},
   "outputs": [],
   "source": [
    "model.compile(loss=keras.losses.categorical_crossentropy,\n",
    "              optimizer=keras.optimizers.Adam(lr=0.001),\n",
    "              metrics=['accuracy'])"
   ]
  },
  {
   "cell_type": "code",
   "execution_count": 26,
   "metadata": {},
   "outputs": [
    {
     "name": "stdout",
     "output_type": "stream",
     "text": [
      "Train on 299997 samples, validate on 60000 samples\n",
      "Epoch 1/20\n",
      "299997/299997 [==============================] - 90s 301us/step - loss: 0.5569 - acc: 0.9228 - val_loss: 0.7658 - val_acc: 0.8131\n",
      "Epoch 2/20\n",
      "299997/299997 [==============================] - 75s 250us/step - loss: 0.2902 - acc: 0.9451 - val_loss: 0.8543 - val_acc: 0.7690\n",
      "Epoch 3/20\n",
      "299997/299997 [==============================] - 75s 249us/step - loss: 0.2533 - acc: 0.9511 - val_loss: 1.3585 - val_acc: 0.7530\n",
      "Epoch 4/20\n",
      "299997/299997 [==============================] - 75s 250us/step - loss: 0.2274 - acc: 0.9563 - val_loss: 0.8184 - val_acc: 0.8390\n",
      "Epoch 5/20\n",
      "299997/299997 [==============================] - 75s 249us/step - loss: 0.2091 - acc: 0.9596 - val_loss: 0.9584 - val_acc: 0.8082\n",
      "Epoch 6/20\n",
      "299997/299997 [==============================] - 75s 251us/step - loss: 0.1978 - acc: 0.9622 - val_loss: 1.2270 - val_acc: 0.7024\n",
      "Epoch 7/20\n",
      "299997/299997 [==============================] - 75s 251us/step - loss: 0.1904 - acc: 0.9635 - val_loss: 0.9062 - val_acc: 0.8167\n",
      "Epoch 8/20\n",
      "299997/299997 [==============================] - 76s 254us/step - loss: 0.1842 - acc: 0.9647 - val_loss: 0.5781 - val_acc: 0.8651\n",
      "Epoch 9/20\n",
      "299997/299997 [==============================] - 75s 251us/step - loss: 0.1781 - acc: 0.9660 - val_loss: 1.5169 - val_acc: 0.6326\n",
      "Epoch 10/20\n",
      "299997/299997 [==============================] - 76s 252us/step - loss: 0.1790 - acc: 0.9656 - val_loss: 1.0942 - val_acc: 0.7674\n",
      "Epoch 11/20\n",
      "299997/299997 [==============================] - 75s 251us/step - loss: 0.1792 - acc: 0.9653 - val_loss: 1.0716 - val_acc: 0.7410\n",
      "Epoch 12/20\n",
      "299997/299997 [==============================] - 75s 251us/step - loss: 0.1734 - acc: 0.9670 - val_loss: 0.6915 - val_acc: 0.8694\n",
      "Epoch 13/20\n",
      "299997/299997 [==============================] - 75s 250us/step - loss: 0.1757 - acc: 0.9666 - val_loss: 1.1998 - val_acc: 0.7410\n",
      "Epoch 14/20\n",
      "299997/299997 [==============================] - 75s 249us/step - loss: 0.1725 - acc: 0.9671 - val_loss: 1.0460 - val_acc: 0.8350\n",
      "Epoch 15/20\n",
      "299997/299997 [==============================] - 75s 249us/step - loss: 0.1739 - acc: 0.9674 - val_loss: 1.1874 - val_acc: 0.8012\n",
      "Epoch 16/20\n",
      "299997/299997 [==============================] - 75s 251us/step - loss: 0.1709 - acc: 0.9679 - val_loss: 0.9716 - val_acc: 0.7950\n",
      "Epoch 17/20\n",
      "299997/299997 [==============================] - 75s 249us/step - loss: 0.1717 - acc: 0.9683 - val_loss: 1.1940 - val_acc: 0.8235\n",
      "Epoch 18/20\n",
      "299997/299997 [==============================] - 75s 249us/step - loss: 0.1707 - acc: 0.9682 - val_loss: 0.7952 - val_acc: 0.8128\n",
      "Epoch 19/20\n",
      "299997/299997 [==============================] - 75s 249us/step - loss: 0.1675 - acc: 0.9687 - val_loss: 1.0299 - val_acc: 0.8211\n",
      "Epoch 20/20\n",
      "299997/299997 [==============================] - 75s 249us/step - loss: 0.1699 - acc: 0.9686 - val_loss: 1.0813 - val_acc: 0.8151\n"
     ]
    },
    {
     "data": {
      "text/plain": [
       "<keras.callbacks.History at 0x7f05356927b8>"
      ]
     },
     "execution_count": 26,
     "metadata": {},
     "output_type": "execute_result"
    }
   ],
   "source": [
    "model.fit(X_train, Y_train,\n",
    "          epochs = 20,\n",
    "          verbose = 1,\n",
    "          batch_size= 128,\n",
    "          validation_data=(X_test, Y_test))"
   ]
  },
  {
   "cell_type": "code",
   "execution_count": 28,
   "metadata": {},
   "outputs": [],
   "source": [
    "model.save('model_1_1.h5')"
   ]
  },
  {
   "cell_type": "code",
   "execution_count": 30,
   "metadata": {},
   "outputs": [],
   "source": [
    "model = load_model('model_1_1.h5')"
   ]
  },
  {
   "cell_type": "code",
   "execution_count": 33,
   "metadata": {},
   "outputs": [],
   "source": [
    "# # this make aure all the layers are trainable\n",
    "# for layer in model.layers:\n",
    "#     print(layer.trainable)"
   ]
  },
  {
   "cell_type": "code",
   "execution_count": null,
   "metadata": {},
   "outputs": [],
   "source": [
    "# train again"
   ]
  },
  {
   "cell_type": "code",
   "execution_count": 35,
   "metadata": {},
   "outputs": [],
   "source": [
    "# model.fit(X_train, Y_train,\n",
    "#           epochs = 20,\n",
    "#           verbose = 1,\n",
    "#           batch_size= 128,\n",
    "#           validation_data=(X_test, Y_test))"
   ]
  },
  {
   "cell_type": "code",
   "execution_count": null,
   "metadata": {},
   "outputs": [],
   "source": []
  }
 ],
 "metadata": {
  "kernelspec": {
   "display_name": "Python 3",
   "language": "python",
   "name": "python3"
  },
  "language_info": {
   "codemirror_mode": {
    "name": "ipython",
    "version": 3
   },
   "file_extension": ".py",
   "mimetype": "text/x-python",
   "name": "python",
   "nbconvert_exporter": "python",
   "pygments_lexer": "ipython3",
   "version": "3.6.6"
  }
 },
 "nbformat": 4,
 "nbformat_minor": 2
}
