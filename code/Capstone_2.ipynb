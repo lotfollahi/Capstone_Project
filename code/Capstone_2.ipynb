{
 "cells": [
  {
   "cell_type": "code",
   "execution_count": 1,
   "metadata": {},
   "outputs": [
    {
     "name": "stderr",
     "output_type": "stream",
     "text": [
      "Using TensorFlow backend.\n"
     ]
    }
   ],
   "source": [
    "%matplotlib inline\n",
    "import matplotlib.pyplot as plt\n",
    "import utils\n",
    "import pandas as pd\n",
    "import numpy as np\n",
    "from keras.preprocessing.image import ImageDataGenerator, array_to_img, img_to_array, load_img\n",
    "import os\n",
    "from PIL import Image\n",
    "Image.MAX_IMAGE_PIXELS = 1000000000"
   ]
  },
  {
   "cell_type": "code",
   "execution_count": 2,
   "metadata": {
    "collapsed": true
   },
   "outputs": [],
   "source": [
    "import keras\n",
    "from keras.models import Sequential, Model, Input\n",
    "from keras.layers import Dense, Dropout, Activation\n",
    "from keras.layers import Conv2D, MaxPooling2D, Flatten\n",
    "from keras.regularizers import l2"
   ]
  },
  {
   "cell_type": "code",
   "execution_count": 29,
   "metadata": {
    "collapsed": true
   },
   "outputs": [],
   "source": [
    "train_data_path = '/Users/mlotfollahi/Desktop/Galvanize/Capstone_Project/code/left-pca16' # Full path should be given here \n",
    "train_mask_path = 'mask/train/'\n",
    "test_data_path = '//Users/mlotfollahi/Desktop/Galvanize/Capstone_Project/code/right-pca16' # Full path should be given here \n",
    "test_mask_path = 'mask/test/'"
   ]
  },
  {
   "cell_type": "markdown",
   "metadata": {},
   "source": [
    "## Visualize Masks"
   ]
  },
  {
   "cell_type": "code",
   "execution_count": 13,
   "metadata": {
    "collapsed": true
   },
   "outputs": [],
   "source": [
    "# files = []\n",
    "# folder = 'mask/train/'\n",
    "# path = []\n",
    "# for filename in os.listdir('mask/train/'):\n",
    "#     files.append(filename)\n",
    "#     path.append('{}{}'.format(folder,filename))"
   ]
  },
  {
   "cell_type": "code",
   "execution_count": 14,
   "metadata": {},
   "outputs": [],
   "source": [
    "# fig, axs = plt.subplots(2, 3, figsize=(12, 8))\n",
    "# axs = axs.ravel()\n",
    "# for i in range(len(path)):\n",
    "#     img = load_img(path=path[i],grayscale=True, target_size=(150,150), interpolation='nearest')\n",
    "#     axs[i].imshow(img)\n",
    "#     axs[i].set_title(files[i])"
   ]
  },
  {
   "cell_type": "code",
   "execution_count": 15,
   "metadata": {
    "collapsed": true
   },
   "outputs": [],
   "source": [
    "# files = []\n",
    "# folder = 'mask/test/'\n",
    "# path = []\n",
    "# for filename in os.listdir('mask/test/'):\n",
    "#     files.append(filename)\n",
    "#     path.append('{}{}'.format(folder,filename))"
   ]
  },
  {
   "cell_type": "code",
   "execution_count": 16,
   "metadata": {},
   "outputs": [],
   "source": [
    "# fig, axs = plt.subplots(2, 3, figsize=(12, 8))\n",
    "# axs = axs.ravel()\n",
    "# for i in range(len(path)):\n",
    "#     img = load_img(path=path[i],grayscale=True, target_size=(150,150), interpolation='nearest')\n",
    "#     axs[i].imshow(img)\n",
    "#     axs[i].set_title(files[i])"
   ]
  },
  {
   "cell_type": "code",
   "execution_count": 17,
   "metadata": {
    "collapsed": true
   },
   "outputs": [],
   "source": [
    "# Read data form training and test "
   ]
  },
  {
   "cell_type": "code",
   "execution_count": 18,
   "metadata": {
    "collapsed": true
   },
   "outputs": [],
   "source": [
    "# X_train,Y_train, num_bands = utils.load_data(data_path = train_data_path, \n",
    "#                                              masks_path = train_mask_path, \n",
    "#                                              crop_size = 33, \n",
    "#                                              num_classes = 6, \n",
    "#                                              samples = 100000, \n",
    "#                                              balance = True)"
   ]
  },
  {
   "cell_type": "code",
   "execution_count": 19,
   "metadata": {
    "collapsed": true
   },
   "outputs": [],
   "source": [
    "# X_test,Y_test, num_bands = utils.load_data(data_path = test_data_path, \n",
    "#                                            masks_path = test_mask_path, \n",
    "#                                            crop_size = 33, \n",
    "#                                            num_classes = 6, \n",
    "#                                            samples = 10000, \n",
    "#                                            balance = True)"
   ]
  },
  {
   "cell_type": "code",
   "execution_count": 20,
   "metadata": {
    "collapsed": true
   },
   "outputs": [],
   "source": [
    "# print(type(X_train), type(Y_train))\n",
    "# print(X_train.shape, Y_train.shape, num_bands)\n",
    "# print(X_test.shape,  Y_test.shape,  num_bands)"
   ]
  },
  {
   "cell_type": "code",
   "execution_count": 21,
   "metadata": {
    "collapsed": true
   },
   "outputs": [],
   "source": [
    "# X_train_list = np.array([X_train[i] for i in range(X_train.shape[0])])"
   ]
  },
  {
   "cell_type": "code",
   "execution_count": 22,
   "metadata": {
    "collapsed": true
   },
   "outputs": [],
   "source": [
    "# X_test_list = np.array([X_test[i] for i in range(X_test.shape[0])])"
   ]
  },
  {
   "cell_type": "code",
   "execution_count": 23,
   "metadata": {
    "collapsed": true
   },
   "outputs": [],
   "source": [
    "# Y_train_list = np.array([Y_train[i,:] for i in range(Y_train.shape[0])])"
   ]
  },
  {
   "cell_type": "code",
   "execution_count": 24,
   "metadata": {
    "collapsed": true
   },
   "outputs": [],
   "source": [
    "# Y_test_list = np.array([Y_test[i,:] for i in range(Y_test.shape[0])])"
   ]
  },
  {
   "cell_type": "markdown",
   "metadata": {},
   "source": [
    "# Batch Generator"
   ]
  },
  {
   "cell_type": "markdown",
   "metadata": {},
   "source": [
    "This function create a generator for keras.  "
   ]
  },
  {
   "cell_type": "code",
   "execution_count": 30,
   "metadata": {
    "collapsed": true
   },
   "outputs": [],
   "source": [
    "def DataGenerator(data_path, masks_path, crop_size, num_classes, samples = 1000, balance = True):  \n",
    "    while True:\n",
    "        X, Y, num_bands = utils.load_data(data_path, \n",
    "                                          masks_path, \n",
    "                                          crop_size, \n",
    "                                          num_classes, \n",
    "                                          samples,\n",
    "                                          balance)\n",
    "        X_for_keras = np.array([X[i] for i in range(X.shape[0])])\n",
    "        Y_for_keras = np.array([Y[i,:] for i in range(Y.shape[0])])\n",
    "        yield X_for_keras, Y_for_keras"
   ]
  },
  {
   "cell_type": "markdown",
   "metadata": {},
   "source": [
    "# Build First Model"
   ]
  },
  {
   "cell_type": "code",
   "execution_count": 31,
   "metadata": {
    "collapsed": true
   },
   "outputs": [],
   "source": [
    "model = Sequential()\n",
    "model.add(Conv2D(filters=8, kernel_size=(5, 5), strides=(1, 1),\n",
    "                 activation='relu',\n",
    "                 input_shape=(33, 33, 16),\n",
    "                 kernel_regularizer=l2(0.01)))\n",
    "\n",
    "model.add(MaxPooling2D(pool_size=(2, 2),\n",
    "                       strides=(2, 2)))\n",
    "\n",
    "model.add(Conv2D(filters=32, kernel_size=(5, 5),\n",
    "                 strides=(1, 1),\n",
    "                 activation='relu',\n",
    "                 kernel_regularizer=l2(0.01)))\n",
    "\n",
    "model.add(MaxPooling2D(pool_size=(2, 2),\n",
    "                       strides=(2, 2)))\n",
    "model.add(Flatten())\n",
    "model.add(Dense(128,\n",
    "                activation='relu',\n",
    "                kernel_regularizer=l2(0.01)))\n",
    "model.add(Dense(6,\n",
    "                activation='softmax',\n",
    "                kernel_regularizer=l2(0.01)))"
   ]
  },
  {
   "cell_type": "code",
   "execution_count": 32,
   "metadata": {
    "collapsed": true
   },
   "outputs": [],
   "source": [
    "model.compile(loss=keras.losses.categorical_crossentropy,\n",
    "              optimizer=keras.optimizers.Adam(lr=0.001),\n",
    "              metrics=['accuracy'])"
   ]
  },
  {
   "cell_type": "code",
   "execution_count": null,
   "metadata": {},
   "outputs": [
    {
     "name": "stderr",
     "output_type": "stream",
     "text": [
      "/Users/mlotfollahi/anaconda3/lib/python3.6/site-packages/ipykernel_launcher.py:15: UserWarning: Update your `fit_generator` call to the Keras 2 API: `fit_generator(generator=<generator..., epochs=5, validation_steps=1, validation_data=<generator..., steps_per_epoch=5)`\n",
      "  from ipykernel import kernelapp as app\n"
     ]
    },
    {
     "name": "stdout",
     "output_type": "stream",
     "text": [
      "\n",
      "\n",
      " balance: \n",
      "\n",
      " balance: Epoch 1/5  \n",
      "TrueTrue\n",
      "\n",
      "\n",
      " number of samples:  60000 \n",
      "\n",
      "\n",
      " number of samples:  60000 \n",
      "\n",
      "loading class:  1  - samples:  10000\n",
      "loading class:  1  - samples:  10000\n",
      "loading class:  2  - samples:  10000\n",
      "loading class:  2  - samples:  10000\n",
      "loading class:  3  - samples:  10000\n",
      "loading class:  3  - samples:  10000\n",
      "loading class:  4  - samples:  10000\n",
      "loading class:  5  - samples:  10000\n",
      "loading class:  4  - samples:  10000\n",
      "loading class:  6  - samples:  10000\n",
      "loading class:  5  - samples:  10000\n",
      "\n",
      "\n",
      " balance:  True\n",
      "loading class:  6  - samples:  10000\n",
      "\n",
      "\n",
      " balance:  True\n"
     ]
    }
   ],
   "source": [
    "model.fit_generator(generator = DataGenerator(train_data_path,\n",
    "                                              train_mask_path, \n",
    "                                              crop_size = 33, \n",
    "                                              num_classes = 6, \n",
    "                                              samples = 10000, \n",
    "                                              balance = True),\n",
    "                    samples_per_epoch = 5,\n",
    "                    epochs = 5,\n",
    "                    validation_steps = 1,\n",
    "                    validation_data = DataGenerator(test_data_path,\n",
    "                                              test_mask_path, \n",
    "                                              crop_size = 33, \n",
    "                                              num_classes = 6, \n",
    "                                              samples = 10000, \n",
    "                                              balance = True))"
   ]
  },
  {
   "cell_type": "code",
   "execution_count": 2,
   "metadata": {},
   "outputs": [
    {
     "name": "stdout",
     "output_type": "stream",
     "text": [
      "test\n"
     ]
    }
   ],
   "source": [
    "print('test')"
   ]
  },
  {
   "cell_type": "code",
   "execution_count": 18,
   "metadata": {
    "collapsed": true
   },
   "outputs": [],
   "source": [
    "# model.fit(X_train_list, Y_train_list,\n",
    "#           epochs = 5,\n",
    "#           verbose = 1,\n",
    "#           batch_size= 50,\n",
    "#           validation_data=(X_test_list, Y_test_list))"
   ]
  },
  {
   "cell_type": "code",
   "execution_count": 19,
   "metadata": {
    "collapsed": true
   },
   "outputs": [],
   "source": [
    "# # read data from S3\n",
    "# import boto3\n",
    "# client = boto3.client('s3') \n",
    "# #s3 = boto3.resource('s3')\n",
    "# client.list_objects(Bucket=s3_bucket, Prefix = \"{}/\".format(subdirectory), Delimiter='/')['Contents']\n",
    "# s3_bucket = 'capstonelotfollahi'\n",
    "# subdirectory = 'left-pca16'\n",
    "# s3.list_objects(Bucket=s3_bucket, Prefix = \"{}/\".format(subdirectory), Delimiter='/')[\"Contents\"]"
   ]
  },
  {
   "cell_type": "code",
   "execution_count": 7,
   "metadata": {},
   "outputs": [],
   "source": [
    "# for i in range(3):\n",
    "#     X_train,Y_train, num_bands = utils.load_data(data_path = train_data_path, \n",
    "#                                              masks_path = train_mask_path, \n",
    "#                                              crop_size = 33, \n",
    "#                                              num_classes = 6, \n",
    "#                                              samples = 10000, \n",
    "#                                              balance = True)\n",
    "#     X_test,Y_test, num_bands = utils.load_data(data_path = test_data_path, \n",
    "#                                            masks_path = test_mask_path, \n",
    "#                                            crop_size = 33, \n",
    "#                                            num_classes = 6, \n",
    "#                                            samples = 10000, \n",
    "#                                            balance = True)\n",
    "#     X_train_list = np.array([X_train[i] for i in range(X_train.shape[0])])\n",
    "#     X_test_list = np.array([X_test[i] for i in range(X_test.shape[0])])\n",
    "#     Y_train_list = np.array([Y_train[i,:] for i in range(Y_train.shape[0])])\n",
    "#     Y_test_list = np.array([Y_test[i,:] for i in range(Y_test.shape[0])])\n",
    "    \n",
    "#     model.fit(X_train_list, Y_train_list,\n",
    "#           epochs = 5,\n",
    "#           verbose = 1,\n",
    "#           batch_size= 50,\n",
    "#           validation_data=(X_test_list, Y_test_list))"
   ]
  },
  {
   "cell_type": "code",
   "execution_count": null,
   "metadata": {
    "collapsed": true
   },
   "outputs": [],
   "source": []
  },
  {
   "cell_type": "code",
   "execution_count": null,
   "metadata": {
    "collapsed": true
   },
   "outputs": [],
   "source": []
  }
 ],
 "metadata": {
  "kernelspec": {
   "display_name": "Python 3",
   "language": "python",
   "name": "python3"
  },
  "language_info": {
   "codemirror_mode": {
    "name": "ipython",
    "version": 3
   },
   "file_extension": ".py",
   "mimetype": "text/x-python",
   "name": "python",
   "nbconvert_exporter": "python",
   "pygments_lexer": "ipython3",
   "version": "3.6.3"
  }
 },
 "nbformat": 4,
 "nbformat_minor": 2
}
