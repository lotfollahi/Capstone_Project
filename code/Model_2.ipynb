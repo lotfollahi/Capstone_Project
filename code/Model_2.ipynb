{
 "cells": [
  {
   "cell_type": "code",
   "execution_count": 2,
   "metadata": {},
   "outputs": [
    {
     "name": "stderr",
     "output_type": "stream",
     "text": [
      "/home/ec2-user/anaconda3/envs/tensorflow_p36/lib/python3.6/site-packages/h5py/__init__.py:36: FutureWarning: Conversion of the second argument of issubdtype from `float` to `np.floating` is deprecated. In future, it will be treated as `np.float64 == np.dtype(float).type`.\n",
      "  from ._conv import register_converters as _register_converters\n",
      "Using TensorFlow backend.\n"
     ]
    }
   ],
   "source": [
    "%matplotlib inline\n",
    "import matplotlib.pyplot as plt\n",
    "import utils\n",
    "import pandas as pd\n",
    "import numpy as np\n",
    "from keras.preprocessing.image import ImageDataGenerator, array_to_img, img_to_array, load_img\n",
    "import os\n",
    "from PIL import Image\n",
    "Image.MAX_IMAGE_PIXELS = 1000000000\n",
    "import h5py\n",
    "from keras.models import load_model"
   ]
  },
  {
   "cell_type": "code",
   "execution_count": 7,
   "metadata": {},
   "outputs": [],
   "source": [
    "import keras\n",
    "from keras.models import Sequential, Model, Input\n",
    "from keras.layers import Dense, Dropout, Activation\n",
    "from keras.layers import Conv2D, MaxPooling2D, Flatten\n",
    "from keras.regularizers import l2\n",
    "from keras.layers.normalization import BatchNormalization"
   ]
  },
  {
   "cell_type": "code",
   "execution_count": 3,
   "metadata": {},
   "outputs": [],
   "source": [
    "train_data_path = '/home/ec2-user/code/left-pca16' # Full path should be given here \n",
    "train_mask_path = 'mask/train/'\n",
    "test_data_path = '/home/ec2-user/code/right-pca16' # Full path should be given here \n",
    "test_mask_path = 'mask/test/'"
   ]
  },
  {
   "cell_type": "code",
   "execution_count": 8,
   "metadata": {},
   "outputs": [],
   "source": [
    "# Read data form training and test "
   ]
  },
  {
   "cell_type": "code",
   "execution_count": 13,
   "metadata": {},
   "outputs": [],
   "source": [
    "# X_train,Y_train, num_bands = utils.load_data(data_path = train_data_path, \n",
    "#                                              masks_path = train_mask_path, \n",
    "#                                              crop_size = 33, \n",
    "#                                              num_classes = 6, \n",
    "#                                              samples = 100000, \n",
    "#                                              balance = True)"
   ]
  },
  {
   "cell_type": "code",
   "execution_count": 14,
   "metadata": {},
   "outputs": [],
   "source": [
    "# X_test,Y_test, num_bands = utils.load_data(data_path = test_data_path, \n",
    "#                                            masks_path = test_mask_path, \n",
    "#                                            crop_size = 33, \n",
    "#                                            num_classes = 6, \n",
    "#                                            samples = 10000, \n",
    "#                                            balance = True)"
   ]
  },
  {
   "cell_type": "code",
   "execution_count": 15,
   "metadata": {},
   "outputs": [],
   "source": [
    "# print(type(X_train), type(Y_train))\n",
    "# print(X_train.shape, Y_train.shape, num_bands)\n",
    "# print(X_test.shape,  Y_test.shape,  num_bands)"
   ]
  },
  {
   "cell_type": "code",
   "execution_count": 155,
   "metadata": {},
   "outputs": [],
   "source": [
    "# X_train_list = np.array([X_train[i] for i in range(X_train.shape[0])])"
   ]
  },
  {
   "cell_type": "code",
   "execution_count": 156,
   "metadata": {},
   "outputs": [],
   "source": [
    "# X_test_list = np.array([X_test[i] for i in range(X_test.shape[0])])"
   ]
  },
  {
   "cell_type": "code",
   "execution_count": 157,
   "metadata": {},
   "outputs": [],
   "source": [
    "# Y_train_list = np.array([Y_train[i,:] for i in range(Y_train.shape[0])])"
   ]
  },
  {
   "cell_type": "code",
   "execution_count": 16,
   "metadata": {},
   "outputs": [],
   "source": [
    "# Y_test_list = np.array([Y_test[i,:] for i in range(Y_test.shape[0])])"
   ]
  },
  {
   "cell_type": "markdown",
   "metadata": {},
   "source": [
    "# Batch Generator"
   ]
  },
  {
   "cell_type": "markdown",
   "metadata": {},
   "source": [
    "This function create a generator for keras.  "
   ]
  },
  {
   "cell_type": "code",
   "execution_count": 9,
   "metadata": {},
   "outputs": [],
   "source": [
    "def DataGenerator(data_path, masks_path, crop_size, num_classes, samples = 1000, balance = True):  \n",
    "    while True:\n",
    "        X, Y, num_bands = utils.load_data(data_path, \n",
    "                                          masks_path, \n",
    "                                          crop_size, \n",
    "                                          num_classes, \n",
    "                                          samples,\n",
    "                                          balance)\n",
    "        X_for_keras = np.array([X[i] for i in range(X.shape[0])])\n",
    "        Y_for_keras = np.array([Y[i,:] for i in range(Y.shape[0])])\n",
    "        yield X_for_keras, Y_for_keras"
   ]
  },
  {
   "cell_type": "markdown",
   "metadata": {},
   "source": [
    "# Build First Model"
   ]
  },
  {
   "cell_type": "code",
   "execution_count": 8,
   "metadata": {},
   "outputs": [],
   "source": [
    "# model = Sequential()\n",
    "# model.add(Conv2D(filters=8, kernel_size=(5, 5), strides=(1, 1),\n",
    "#                  activation='relu',\n",
    "#                  input_shape=(33, 33, 16),\n",
    "#                  kernel_regularizer=l2(0.01)))\n",
    "\n",
    "# model.add(MaxPooling2D(pool_size=(2, 2),\n",
    "#                        strides=(2, 2)))\n",
    "\n",
    "# model.add(Conv2D(filters=32, kernel_size=(5, 5),\n",
    "#                  strides=(1, 1),\n",
    "#                  activation='relu',\n",
    "#                  kernel_regularizer=l2(0.01)))\n",
    "\n",
    "# model.add(MaxPooling2D(pool_size=(2, 2),\n",
    "#                        strides=(2, 2)))\n",
    "# model.add(Flatten())\n",
    "# model.add(Dense(128,\n",
    "#                 activation='relu',\n",
    "#                 kernel_regularizer=l2(0.01)))\n",
    "# model.add(Dense(6,\n",
    "#                 activation='softmax',\n",
    "#                 kernel_regularizer=l2(0.01)))"
   ]
  },
  {
   "cell_type": "code",
   "execution_count": 20,
   "metadata": {},
   "outputs": [],
   "source": [
    "model = Sequential()\n",
    "model.add(Conv2D(filters = 8, kernel_size = (3, 3), strides=(1, 1), input_shape=(17, 17, 16), kernel_regularizer=l2(0.01)))\n",
    "model.add(BatchNormalization())\n",
    "model.add(Activation('softplus'))\n",
    "model.add(MaxPooling2D(pool_size=(2, 2),strides=(2, 2)))\n",
    "\n",
    "model.add(Conv2D(filters = 32, kernel_size = (3, 3), strides=(1, 1), kernel_regularizer=l2(0.01)))\n",
    "model.add(BatchNormalization())\n",
    "model.add(Activation('softplus'))\n",
    "\n",
    "model.add(Conv2D(filters = 32, kernel_size = (3, 3), strides=(1, 1), kernel_regularizer=l2(0.01)))\n",
    "model.add(BatchNormalization())\n",
    "model.add(Activation('softplus'))\n",
    "model.add(MaxPooling2D(pool_size=(2, 2),strides=(2, 2)))\n",
    "\n",
    "model.add(Flatten())\n",
    "model.add(Dense(128, kernel_regularizer=l2(0.01)))\n",
    "model.add(BatchNormalization())\n",
    "model.add(Activation('softplus'))\n",
    "model.add(Dropout(0.5))\n",
    "\n",
    "model.add(Dense(6, kernel_regularizer=l2(0.01)))\n",
    "model.add(Activation('softmax'))              "
   ]
  },
  {
   "cell_type": "code",
   "execution_count": 21,
   "metadata": {},
   "outputs": [],
   "source": [
    "model.compile(loss=keras.losses.categorical_crossentropy,\n",
    "              optimizer=keras.optimizers.Adam(lr=0.001),\n",
    "              metrics=['accuracy'])"
   ]
  },
  {
   "cell_type": "code",
   "execution_count": 22,
   "metadata": {},
   "outputs": [
    {
     "name": "stderr",
     "output_type": "stream",
     "text": [
      "/home/ec2-user/anaconda3/envs/tensorflow_p36/lib/python3.6/site-packages/ipykernel_launcher.py:15: UserWarning: Update your `fit_generator` call to the Keras 2 API: `fit_generator(generator=<generator..., epochs=10, validation_steps=1, validation_data=<generator..., steps_per_epoch=20)`\n",
      "  from ipykernel import kernelapp as app\n"
     ]
    },
    {
     "name": "stdout",
     "output_type": "stream",
     "text": [
      "Epoch 1/10\n",
      "20/20 [==============================] - 1209s 60s/step - loss: 2.8640 - acc: 0.3796 - val_loss: 2.9791 - val_acc: 0.3269\n",
      "Epoch 2/10\n",
      "20/20 [==============================] - 1048s 52s/step - loss: 1.9845 - acc: 0.6648 - val_loss: 2.8267 - val_acc: 0.3526\n",
      "Epoch 3/10\n",
      "20/20 [==============================] - 1095s 55s/step - loss: 1.5388 - acc: 0.7941 - val_loss: 2.3922 - val_acc: 0.4708\n",
      "Epoch 4/10\n",
      "20/20 [==============================] - 1095s 55s/step - loss: 1.2570 - acc: 0.8538 - val_loss: 2.2135 - val_acc: 0.5858\n",
      "Epoch 5/10\n",
      "20/20 [==============================] - 1098s 55s/step - loss: 1.0495 - acc: 0.8872 - val_loss: 2.2895 - val_acc: 0.4735\n",
      "Epoch 6/10\n",
      "20/20 [==============================] - 1097s 55s/step - loss: 0.8908 - acc: 0.9071 - val_loss: 3.0908 - val_acc: 0.1878\n",
      "Epoch 7/10\n",
      "20/20 [==============================] - 1097s 55s/step - loss: 0.7702 - acc: 0.9183 - val_loss: 4.5198 - val_acc: 0.1677\n",
      "Epoch 8/10\n",
      "20/20 [==============================] - 1094s 55s/step - loss: 0.6750 - acc: 0.9255 - val_loss: 5.4782 - val_acc: 0.1666\n",
      "Epoch 9/10\n",
      "20/20 [==============================] - 1095s 55s/step - loss: 0.5995 - acc: 0.9302 - val_loss: 6.1678 - val_acc: 0.1665\n",
      "Epoch 10/10\n",
      "20/20 [==============================] - 1092s 55s/step - loss: 0.5355 - acc: 0.9360 - val_loss: 6.2266 - val_acc: 0.1667\n"
     ]
    },
    {
     "data": {
      "text/plain": [
       "<keras.callbacks.History at 0x7f5ea00dcf28>"
      ]
     },
     "execution_count": 22,
     "metadata": {},
     "output_type": "execute_result"
    }
   ],
   "source": [
    "model.fit_generator(generator = DataGenerator(train_data_path,\n",
    "                                              train_mask_path, \n",
    "                                              crop_size = 17, \n",
    "                                              num_classes = 6, \n",
    "                                              samples = 5000, \n",
    "                                              balance = True),\n",
    "                    samples_per_epoch = 20,\n",
    "                    epochs = 10,\n",
    "                    validation_steps = 1,\n",
    "                    validation_data = DataGenerator(test_data_path,\n",
    "                                              test_mask_path, \n",
    "                                              crop_size = 17, \n",
    "                                              num_classes = 6, \n",
    "                                              samples = 5000, \n",
    "                                              balance = True))"
   ]
  },
  {
   "cell_type": "code",
   "execution_count": 27,
   "metadata": {},
   "outputs": [],
   "source": [
    "model.save('model_1.h5')"
   ]
  },
  {
   "cell_type": "code",
   "execution_count": 3,
   "metadata": {},
   "outputs": [],
   "source": [
    "model = load_model('model_1.h5')"
   ]
  },
  {
   "cell_type": "code",
   "execution_count": 28,
   "metadata": {},
   "outputs": [],
   "source": []
  },
  {
   "cell_type": "code",
   "execution_count": 29,
   "metadata": {},
   "outputs": [],
   "source": []
  },
  {
   "cell_type": "code",
   "execution_count": null,
   "metadata": {},
   "outputs": [],
   "source": []
  }
 ],
 "metadata": {
  "kernelspec": {
   "display_name": "Python 3",
   "language": "python",
   "name": "python3"
  },
  "language_info": {
   "codemirror_mode": {
    "name": "ipython",
    "version": 3
   },
   "file_extension": ".py",
   "mimetype": "text/x-python",
   "name": "python",
   "nbconvert_exporter": "python",
   "pygments_lexer": "ipython3",
   "version": "3.6.6"
  }
 },
 "nbformat": 4,
 "nbformat_minor": 2
}
